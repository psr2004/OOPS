{
  "nbformat": 4,
  "nbformat_minor": 0,
  "metadata": {
    "colab": {
      "provenance": [],
      "collapsed_sections": [
        "Yri91l0I-92K"
      ]
    },
    "kernelspec": {
      "name": "python3",
      "display_name": "Python 3"
    },
    "language_info": {
      "name": "python"
    }
  },
  "cells": [
    {
      "cell_type": "markdown",
      "source": [
        "# **Theoretical Questions**"
      ],
      "metadata": {
        "id": "Yri91l0I-92K"
      }
    },
    {
      "cell_type": "markdown",
      "source": [
        "\n",
        "1. What is Object-Oriented Programming (OOP)?\n",
        "* Object-Oriented Programming (OOP) is a programming paradigm that organizes code into objects, which are instances of classes. It allows developers to model real-world entities using classes (blueprints) and objects (instances), and emphasizes principles such as encapsulation, inheritance, abstraction, and polymorphism for reusable and modular code.\n",
        "\n",
        "2. What is a class in OOP?\n",
        "* A class in OOP is a blueprint or template for creating objects. It defines the attributes (variables) and behaviors (methods) that the created objects will have, serving as the foundation for instantiating multiple objects with similar characteristics.\n",
        "\n",
        "3. What is an object in OOP?\n",
        "* An object in OOP is an instance of a class. It represents a real-world entity with state and behavior defined by its class, and each object can have different values for the attributes defined in the class.\n",
        "\n",
        "4. What is the difference between abstraction and encapsulation?\n",
        "* Abstraction is the process of hiding complex implementation details and showing only the essential features to the user, while encapsulation is the technique of bundling data and methods that operate on that data within a single unit (class) and restricting direct access to some of the object's components.\n",
        "\n",
        "5. What are dunder methods in Python?\n",
        "* Dunder methods, short for \"double underscore\" methods, are special methods in Python that begin and end with double underscores (e.g., __init__, __str__, __len__) and are used to define the behavior of objects in certain operations like initialization, printing, and arithmetic.\n",
        "\n",
        "6. Explain the concept of inheritance in OOP.\n",
        "* Inheritance is a feature of OOP where a class (child or subclass) inherits attributes and methods from another class (parent or superclass), allowing for code reuse and the creation of a hierarchical relationship between classes.\n",
        "\n",
        "7. What is polymorphism in OOP?\n",
        "* Polymorphism is the ability of different classes to respond to the same method name in different ways, allowing functions to use entities of different types at different times while maintaining a common interface.\n",
        "\n",
        "8. How is encapsulation achieved in Python?\n",
        "* Encapsulation in Python is achieved by defining class variables and methods and restricting access to them using access modifiers like single underscore (_) for protected and double underscore (__) for private members.\n",
        "\n",
        "9. What is a constructor in Python?\n",
        "* A constructor in Python is a special method called __init__ that is automatically invoked when an object of a class is created, and it is used to initialize the attributes of the object.\n",
        "\n",
        "10. What are class and static methods in Python?\n",
        "* Class methods in Python are methods that operate on the class itself rather than instances and are defined using the @classmethod decorator with cls as the first parameter, while static methods use the @staticmethod decorator and do not access instance or class-specific data.\n",
        "\n",
        "11. What is method overloading in Python?\n",
        "* Method overloading in Python refers to defining multiple methods with the same name but different numbers or types of parameters; although Python doesn't support it directly, it can be mimicked using default arguments or variable arguments (*args, **kwargs).\n",
        "\n",
        "12. What is method overriding in OOP?\n",
        "* Method overriding in OOP is when a subclass provides a specific implementation for a method that is already defined in its superclass, allowing the subclass to modify or extend the behavior of that method.\n",
        "\n",
        "13. What is a property decorator in Python?\n",
        "* The @property decorator in Python is used to create getter methods for class attributes, allowing attributes to be accessed like regular variables while still enabling encapsulation through method definitions.\n",
        "\n",
        "14. Why is polymorphism important in OOP?\n",
        "* Polymorphism is important in OOP because it allows objects of different classes to be treated as objects of a common superclass, making code more flexible, extensible, and easier to maintain by enabling the same interface to operate on different data types.\n",
        "\n",
        "15. What is an abstract class in Python?\n",
        "* An abstract class in Python is a class that cannot be instantiated and often contains one or more abstract methods (methods without implementation), which must be implemented by subclasses, and is typically defined using the abc module and the @abstractmethod decorator.\n",
        "\n",
        "16. What are the advantages of OOP?\n",
        "* The advantages of OOP include improved code reusability through inheritance, better data security through encapsulation, real-world modeling via abstraction, and greater flexibility and maintainability through polymorphism and modular design.\n",
        "\n",
        "17. What is the difference between a class variable and an instance variable?\n",
        "* A class variable is shared across all instances of a class and is defined within the class but outside any methods, while an instance variable is unique to each object and is defined inside methods using self.\n",
        "\n",
        "18. What is multiple inheritance in Python?\n",
        "* Multiple inheritance in Python allows a class to inherit from more than one parent class, enabling the subclass to access attributes and methods from multiple base classes.\n",
        "\n",
        "19. Explain the purpose of __str__ and __repr__ methods in Python.\n",
        "* The __str__ method returns a human-readable string representation of an object used by print() and str(), whereas __repr__ returns an unambiguous string representation used primarily for debugging and by repr().\n",
        "\n",
        "20. What is the significance of the super() function in Python?\n",
        "* The super() function in Python is used to call methods from a parent or superclass, especially in inheritance, allowing access to the parent class’s implementation without explicitly naming it.\n",
        "\n",
        "21. What is the significance of the __del__ method in Python?\n",
        "* The __del__ method in Python is a special method called when an object is about to be destroyed, typically used to perform cleanup actions like closing files or releasing resources before the object is deleted.\n",
        "\n",
        "22. What is the difference between @staticmethod and @classmethod in Python?\n",
        "* A @staticmethod does not take any implicit first argument and behaves like a regular function inside a class, while a @classmethod takes the class as the first argument (cls) and can access or modify class state.\n",
        "\n",
        "23. How does polymorphism work in Python with inheritance?\n",
        "* Polymorphism in Python with inheritance works by allowing subclasses to define their own versions of methods inherited from a superclass, and when those methods are called using a superclass reference, the subclass version is executed.\n",
        "\n",
        "24. What is method chaining in Python OOP?\n",
        "* Method chaining in Python OOP is a technique where multiple methods are called sequentially on the same object in a single line, each method returning self to allow the next method to be called.\n",
        "\n",
        "25. What is the purpose of the __call__ method in Python?\n",
        "* The __call__ method in Python allows an object to be called like a function; by defining this method in a class, instances of the class can behave like callable functions.\n"
      ],
      "metadata": {
        "id": "JJBPxbZR-9vN"
      }
    },
    {
      "cell_type": "markdown",
      "source": [
        "# **Practical Problem**"
      ],
      "metadata": {
        "id": "-_Skf7tp-9hH"
      }
    },
    {
      "cell_type": "code",
      "execution_count": null,
      "metadata": {
        "colab": {
          "base_uri": "https://localhost:8080/"
        },
        "id": "sDDl58n9MUOd",
        "outputId": "15418c9c-5103-49b6-f7c6-4b6f4178e2fb"
      },
      "outputs": [
        {
          "output_type": "stream",
          "name": "stdout",
          "text": [
            "Bark!\n"
          ]
        }
      ],
      "source": [
        "# 1. Create a parent class Animal with a method speak() that prints a generic message. Create a child class Dog that overrides the speak() method to print \"Bark!\".\n",
        "class Animal:\n",
        "    def speak(self):\n",
        "        print(\"Animal speaks\")\n",
        "\n",
        "class Dog(Animal):\n",
        "    def speak(self):\n",
        "        print(\"Bark!\")\n",
        "\n",
        "dog = Dog()\n",
        "dog.speak()"
      ]
    },
    {
      "cell_type": "code",
      "source": [
        "# 2. Write a program to create an abstract class Shape with a method area(). Derive classes Circle and Rectangle from it and implement the area() method in both.\n",
        "from abc import ABC, abstractmethod\n",
        "import math\n",
        "\n",
        "class Shape(ABC):\n",
        "    @abstractmethod\n",
        "    def area(self):\n",
        "        pass\n",
        "\n",
        "class Circle(Shape):\n",
        "    def __init__(self, radius):\n",
        "        self.radius = radius\n",
        "    def area(self):\n",
        "        return math.pi * self.radius ** 2\n",
        "\n",
        "class Rectangle(Shape):\n",
        "    def __init__(self, length, width):\n",
        "        self.length = length\n",
        "        self.width = width\n",
        "    def area(self):\n",
        "        return self.length * self.width\n",
        "\n",
        "circle = Circle(5)\n",
        "rectangle = Rectangle(4, 6)\n",
        "print(circle.area())\n",
        "print(rectangle.area())\n"
      ],
      "metadata": {
        "colab": {
          "base_uri": "https://localhost:8080/"
        },
        "id": "h6rKQnnhMVec",
        "outputId": "c84939e9-cb8e-419d-a5d5-3412b52d5644"
      },
      "execution_count": null,
      "outputs": [
        {
          "output_type": "stream",
          "name": "stdout",
          "text": [
            "78.53981633974483\n",
            "24\n"
          ]
        }
      ]
    },
    {
      "cell_type": "code",
      "source": [
        "# 3. Implement a multi-level inheritance scenario where a class Vehicle has an attribute type. Derive a class Car and further derive a class ElectricCar that adds a battery attribute.\n",
        "class Vehicle:\n",
        "    def __init__(self, type):\n",
        "        self.type = type\n",
        "\n",
        "class Car(Vehicle):\n",
        "    def __init__(self, type, model):\n",
        "        super().__init__(type)\n",
        "        self.model = model\n",
        "\n",
        "class ElectricCar(Car):\n",
        "    def __init__(self, type, model, battery):\n",
        "        super().__init__(type, model)\n",
        "        self.battery = battery\n",
        "\n",
        "ecar = ElectricCar(\"Electric\", \"Model S\", \"100 kWh\")\n",
        "print(ecar.type, ecar.model, ecar.battery)\n"
      ],
      "metadata": {
        "colab": {
          "base_uri": "https://localhost:8080/"
        },
        "id": "qjIujemoMZG7",
        "outputId": "e8a34dba-2009-42bb-b03f-fb8fca41529e"
      },
      "execution_count": null,
      "outputs": [
        {
          "output_type": "stream",
          "name": "stdout",
          "text": [
            "Electric Model S 100 kWh\n"
          ]
        }
      ]
    },
    {
      "cell_type": "code",
      "source": [
        "# 4. Demonstrate polymorphism by creating a base class Bird with a method fly(). Create two derived classes Sparrow and Penguin that override the fly() method.\n",
        "class Bird:\n",
        "    def fly(self):\n",
        "        print(\"Bird can fly\")\n",
        "\n",
        "class Sparrow(Bird):\n",
        "    def fly(self):\n",
        "        print(\"Sparrow flies\")\n",
        "\n",
        "class Penguin(Bird):\n",
        "    def fly(self):\n",
        "        print(\"Penguin can't fly\")\n",
        "\n",
        "birds = [Sparrow(), Penguin()]\n",
        "for bird in birds:\n",
        "    bird.fly()\n"
      ],
      "metadata": {
        "colab": {
          "base_uri": "https://localhost:8080/"
        },
        "id": "77B7YLMHMcv3",
        "outputId": "3a52e293-95cd-4478-c56d-dcdeb5045a23"
      },
      "execution_count": null,
      "outputs": [
        {
          "output_type": "stream",
          "name": "stdout",
          "text": [
            "Sparrow flies\n",
            "Penguin can't fly\n"
          ]
        }
      ]
    },
    {
      "cell_type": "code",
      "source": [
        "# 5. Write a program to demonstrate encapsulation by creating a class BankAccount with private attributes balance and methods to deposit, withdraw, and check balance.\n",
        "class BankAccount:\n",
        "    def __init__(self):\n",
        "        self.__balance = 0\n",
        "    def deposit(self, amount):\n",
        "        self.__balance += amount\n",
        "    def withdraw(self, amount):\n",
        "        if amount <= self.__balance:\n",
        "            self.__balance -= amount\n",
        "    def get_balance(self):\n",
        "        return self.__balance\n",
        "\n",
        "account = BankAccount()\n",
        "account.deposit(1000)\n",
        "account.withdraw(400)\n",
        "print(account.get_balance())\n"
      ],
      "metadata": {
        "colab": {
          "base_uri": "https://localhost:8080/"
        },
        "id": "g-YXlzveMdxR",
        "outputId": "76bc6a0c-6ccb-4a50-b8c1-f8959db39949"
      },
      "execution_count": null,
      "outputs": [
        {
          "output_type": "stream",
          "name": "stdout",
          "text": [
            "600\n"
          ]
        }
      ]
    },
    {
      "cell_type": "code",
      "source": [
        "# 6. Demonstrate runtime polymorphism using a method play() in a base class Instrument. Derive classes Guitar and Piano that implement their own version of play().\n",
        "class Instrument:\n",
        "    def play(self):\n",
        "        print(\"Playing instrument\")\n",
        "\n",
        "class Guitar(Instrument):\n",
        "    def play(self):\n",
        "        print(\"Playing guitar\")\n",
        "\n",
        "class Piano(Instrument):\n",
        "    def play(self):\n",
        "        print(\"Playing piano\")\n",
        "\n",
        "instruments = [Guitar(), Piano()]\n",
        "for instrument in instruments:\n",
        "    instrument.play()\n"
      ],
      "metadata": {
        "id": "fXoKVW0jMfdF",
        "colab": {
          "base_uri": "https://localhost:8080/"
        },
        "outputId": "4c223186-6ec5-41e5-d7c6-6246dcdfc9e3"
      },
      "execution_count": null,
      "outputs": [
        {
          "output_type": "stream",
          "name": "stdout",
          "text": [
            "Playing guitar\n",
            "Playing piano\n"
          ]
        }
      ]
    },
    {
      "cell_type": "code",
      "source": [
        "# 7. Create a class MathOperations with a class method add_numbers() to add two numbers and a static method subtract_numbers() to subtract two numbers.\n",
        "class MathOperations:\n",
        "    @classmethod\n",
        "    def add_numbers(cls, a, b):\n",
        "        return a + b\n",
        "\n",
        "    @staticmethod\n",
        "    def subtract_numbers(a, b):\n",
        "        return a - b\n",
        "\n",
        "print(MathOperations.add_numbers(5, 3))\n",
        "print(MathOperations.subtract_numbers(10, 4))\n"
      ],
      "metadata": {
        "colab": {
          "base_uri": "https://localhost:8080/"
        },
        "id": "l8c5HIUl-lbF",
        "outputId": "e2c1c699-47c1-47f3-a5d3-9beebf3702f9"
      },
      "execution_count": null,
      "outputs": [
        {
          "output_type": "stream",
          "name": "stdout",
          "text": [
            "8\n",
            "6\n"
          ]
        }
      ]
    },
    {
      "cell_type": "code",
      "source": [
        "# 8. Implement a class Person with a class method to count the total number of persons created.\n",
        "class Person:\n",
        "    count = 0\n",
        "    def __init__(self, name):\n",
        "        self.name = name\n",
        "        Person.count += 1\n",
        "\n",
        "    @classmethod\n",
        "    def total_persons(cls):\n",
        "        return cls.count\n",
        "\n",
        "p1 = Person(\"Suneeth\")\n",
        "p2 = Person(\"Reddy\")\n",
        "print(Person.total_persons())\n"
      ],
      "metadata": {
        "colab": {
          "base_uri": "https://localhost:8080/"
        },
        "id": "kV8n8cx8-ldN",
        "outputId": "ca5f4419-026a-4e9d-9cc0-a42308dd9e50"
      },
      "execution_count": null,
      "outputs": [
        {
          "output_type": "stream",
          "name": "stdout",
          "text": [
            "2\n"
          ]
        }
      ]
    },
    {
      "cell_type": "code",
      "source": [
        "# 9. Write a class Fraction with attributes numerator and denominator. Override the __str__ method to display the fraction as \"numerator/denominator\".\n",
        "class Fraction:\n",
        "    def __init__(self, numerator, denominator):\n",
        "        self.numerator = numerator\n",
        "        self.denominator = denominator\n",
        "\n",
        "    def __str__(self):\n",
        "        return f\"{self.numerator}/{self.denominator}\"\n",
        "\n",
        "f = Fraction(3, 4)\n",
        "print(f)\n"
      ],
      "metadata": {
        "colab": {
          "base_uri": "https://localhost:8080/"
        },
        "id": "ZWdrUy5v-lfo",
        "outputId": "395ed7fb-5421-42bc-d57b-59f5d912d201"
      },
      "execution_count": null,
      "outputs": [
        {
          "output_type": "stream",
          "name": "stdout",
          "text": [
            "3/4\n"
          ]
        }
      ]
    },
    {
      "cell_type": "code",
      "source": [
        "# 10. Demonstrate operator overloading by creating a class Vector and overriding the __add__ method to add two vectors.\n",
        "class Vector:\n",
        "    def __init__(self, x, y):\n",
        "        self.x = x\n",
        "        self.y = y\n",
        "\n",
        "    def __add__(self, other):\n",
        "        return Vector(self.x + other.x, self.y + other.y)\n",
        "\n",
        "    def __str__(self):\n",
        "        return f\"({self.x}, {self.y})\"\n",
        "\n",
        "v1 = Vector(2, 3)\n",
        "v2 = Vector(4, 5)\n",
        "v3 = v1 + v2\n",
        "print(v3)\n"
      ],
      "metadata": {
        "colab": {
          "base_uri": "https://localhost:8080/"
        },
        "id": "dAiDoVBu-lh_",
        "outputId": "104d25e0-d475-4c97-9326-d639224042bf"
      },
      "execution_count": null,
      "outputs": [
        {
          "output_type": "stream",
          "name": "stdout",
          "text": [
            "(6, 8)\n"
          ]
        }
      ]
    },
    {
      "cell_type": "code",
      "source": [
        "# 11. Create a class Person with attributes name and age. Add a method greet() that prints \"Hello, my name is {name} and I am {age} years old.\"\n",
        "class Person:\n",
        "    def __init__(self, name, age):\n",
        "        self.name = name\n",
        "        self.age = age\n",
        "\n",
        "    def greet(self):\n",
        "        print(f\"Hello, my name is {self.name} and I am {self.age} years old.\")\n",
        "\n",
        "person = Person(\"Suneeth\", 19)\n",
        "person.greet()\n"
      ],
      "metadata": {
        "colab": {
          "base_uri": "https://localhost:8080/"
        },
        "id": "X3OFGlaP-lkc",
        "outputId": "6df8e3f5-0e67-439a-b9b8-ce26ae8dee22"
      },
      "execution_count": null,
      "outputs": [
        {
          "output_type": "stream",
          "name": "stdout",
          "text": [
            "Hello, my name is Suneeth and I am 19 years old.\n"
          ]
        }
      ]
    },
    {
      "cell_type": "code",
      "source": [
        "# 12. Implement a class Student with attributes name and grades. Create a method average_grade() to compute the average of the grades.\n",
        "class Student:\n",
        "    def __init__(self, name, grades):\n",
        "        self.name = name\n",
        "        self.grades = grades\n",
        "\n",
        "    def average_grade(self):\n",
        "        return sum(self.grades) / len(self.grades)\n",
        "\n",
        "s = Student(\"Suneeth\", [80, 90, 70])\n",
        "print(s.average_grade())\n"
      ],
      "metadata": {
        "colab": {
          "base_uri": "https://localhost:8080/"
        },
        "id": "4HHINaSj-lm5",
        "outputId": "f1eb184f-928c-4891-d404-df76eba5cacc"
      },
      "execution_count": null,
      "outputs": [
        {
          "output_type": "stream",
          "name": "stdout",
          "text": [
            "80.0\n"
          ]
        }
      ]
    },
    {
      "cell_type": "code",
      "source": [
        "# 13. Create a class Rectangle with methods set_dimensions() to set the dimensions and area() to calculate the area.\n",
        "class Rectangle:\n",
        "    def set_dimensions(self, length, width):\n",
        "        self.length = length\n",
        "        self.width = width\n",
        "\n",
        "    def area(self):\n",
        "        return self.length * self.width\n",
        "\n",
        "r = Rectangle()\n",
        "r.set_dimensions(5, 4)\n",
        "print(r.area())\n"
      ],
      "metadata": {
        "colab": {
          "base_uri": "https://localhost:8080/"
        },
        "id": "XdvMXCM9-lpZ",
        "outputId": "c2ef5f1b-42e1-4720-b9bd-05f8c8d275be"
      },
      "execution_count": null,
      "outputs": [
        {
          "output_type": "stream",
          "name": "stdout",
          "text": [
            "20\n"
          ]
        }
      ]
    },
    {
      "cell_type": "code",
      "source": [
        "# 14. Create a class Employee with a method calculate_salary() that computes the salary based on hours worked and hourly rate. Create a derived class Manager that adds a bonus to the salary.\n",
        "class Employee:\n",
        "    def calculate_salary(self, hours, rate):\n",
        "        return hours * rate\n",
        "\n",
        "class Manager(Employee):\n",
        "    def calculate_salary(self, hours, rate, bonus):\n",
        "        return super().calculate_salary(hours, rate) + bonus\n",
        "\n",
        "m = Manager()\n",
        "print(m.calculate_salary(40, 20, 1000))\n"
      ],
      "metadata": {
        "colab": {
          "base_uri": "https://localhost:8080/"
        },
        "id": "hXMnz798-lre",
        "outputId": "00121aa5-0eb0-4a91-d0c8-5281d7753b0b"
      },
      "execution_count": null,
      "outputs": [
        {
          "output_type": "stream",
          "name": "stdout",
          "text": [
            "1800\n"
          ]
        }
      ]
    },
    {
      "cell_type": "code",
      "source": [
        "# 15. Create a class Product with attributes name, price, and quantity. Implement a method total_price() that calculates the total price of the product.\n",
        "class Product:\n",
        "    def __init__(self, name, price, quantity):\n",
        "        self.name = name\n",
        "        self.price = price\n",
        "        self.quantity = quantity\n",
        "\n",
        "    def total_price(self):\n",
        "        return self.price * self.quantity\n",
        "\n",
        "p = Product(\"Pen\", 10, 5)\n",
        "print(p.total_price())\n"
      ],
      "metadata": {
        "colab": {
          "base_uri": "https://localhost:8080/"
        },
        "id": "yIPm6rfp-luB",
        "outputId": "0d4d2dc5-aab2-4182-abef-ac7b8bc554c0"
      },
      "execution_count": null,
      "outputs": [
        {
          "output_type": "stream",
          "name": "stdout",
          "text": [
            "50\n"
          ]
        }
      ]
    },
    {
      "cell_type": "code",
      "source": [
        "# 16. Create a class Animal with an abstract method sound(). Create two derived classes Cow and Sheep that implement the sound() method.\n",
        "from abc import ABC, abstractmethod\n",
        "\n",
        "class AnimalAbstract(ABC):\n",
        "    @abstractmethod\n",
        "    def sound(self):\n",
        "        pass\n",
        "\n",
        "class Cow(AnimalAbstract):\n",
        "    def sound(self):\n",
        "        print(\"Moo\")\n",
        "\n",
        "class Sheep(AnimalAbstract):\n",
        "    def sound(self):\n",
        "        print(\"Baa\")\n",
        "\n",
        "Cow().sound()\n",
        "Sheep().sound()\n"
      ],
      "metadata": {
        "colab": {
          "base_uri": "https://localhost:8080/"
        },
        "id": "sjW93Jyf-lwh",
        "outputId": "019d2a53-ec54-48d7-a948-e15ff6965d20"
      },
      "execution_count": null,
      "outputs": [
        {
          "output_type": "stream",
          "name": "stdout",
          "text": [
            "Moo\n",
            "Baa\n"
          ]
        }
      ]
    },
    {
      "cell_type": "code",
      "source": [
        "# 17. Create a class Book with attributes title, author, and year_published. Add a method get_book_info() that returns a formatted string with the book's details.\n",
        "class Book:\n",
        "    def __init__(self, title, author, year_published):\n",
        "        self.title = title\n",
        "        self.author = author\n",
        "        self.year_published = year_published\n",
        "\n",
        "    def get_book_info(self):\n",
        "        return f\"{self.title} by {self.author}, published in {self.year_published}\"\n",
        "\n",
        "b = Book(\"Math book\", \"Suneeth\", 2010)\n",
        "print(b.get_book_info())\n"
      ],
      "metadata": {
        "colab": {
          "base_uri": "https://localhost:8080/"
        },
        "id": "AWKAA2lK-xUi",
        "outputId": "f347ea5d-c125-4604-c99d-8f7b97e0e6df"
      },
      "execution_count": null,
      "outputs": [
        {
          "output_type": "stream",
          "name": "stdout",
          "text": [
            "Math book by Suneeth, published in 2010\n"
          ]
        }
      ]
    },
    {
      "cell_type": "code",
      "source": [
        "# 18. Create a class House with attributes address and price. Create a derived class Mansion that adds an attribute number_of_rooms.\n",
        "class House:\n",
        "    def __init__(self, address, price):\n",
        "        self.address = address\n",
        "        self.price = price\n",
        "\n",
        "class Mansion(House):\n",
        "    def __init__(self, address, price, number_of_rooms):\n",
        "        super().__init__(address, price)\n",
        "        self.number_of_rooms = number_of_rooms\n",
        "\n",
        "m = Mansion(\"123 Street\", 100000, 10)\n",
        "print(m.address, m.price, m.number_of_rooms)\n"
      ],
      "metadata": {
        "colab": {
          "base_uri": "https://localhost:8080/"
        },
        "id": "Df-6CVue-yo2",
        "outputId": "e15e4be8-457d-49bf-e6b8-a2b2121a0d41"
      },
      "execution_count": null,
      "outputs": [
        {
          "output_type": "stream",
          "name": "stdout",
          "text": [
            "123 Street 100000 10\n"
          ]
        }
      ]
    }
  ]
}